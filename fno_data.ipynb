{
 "cells": [
  {
   "cell_type": "code",
   "execution_count": 1,
   "id": "d126d983",
   "metadata": {},
   "outputs": [],
   "source": [
    "import pandas as pd\n",
    "import numpy as np"
   ]
  },
  {
   "cell_type": "code",
   "execution_count": 2,
   "id": "b1879abc",
   "metadata": {},
   "outputs": [],
   "source": [
    "file_path = \"/home/salz/DeepONet/synthetic_data_generation/features.csv\"\n",
    "\n",
    "data = pd.read_csv(file_path, header = None)\n",
    "\n",
    "velocity = data.to_numpy().reshape(-1, 1, 250)"
   ]
  },
  {
   "cell_type": "code",
   "execution_count": 3,
   "id": "31b332d9",
   "metadata": {},
   "outputs": [
    {
     "data": {
      "text/plain": [
       "(1000, 1, 250)"
      ]
     },
     "execution_count": 3,
     "metadata": {},
     "output_type": "execute_result"
    }
   ],
   "source": [
    "velocity.shape"
   ]
  },
  {
   "cell_type": "code",
   "execution_count": 4,
   "id": "d6793eb5",
   "metadata": {},
   "outputs": [
    {
     "data": {
      "text/plain": [
       "(5, 1, 250)"
      ]
     },
     "execution_count": 4,
     "metadata": {},
     "output_type": "execute_result"
    }
   ],
   "source": [
    "velocity[:5].shape"
   ]
  }
 ],
 "metadata": {
  "kernelspec": {
   "display_name": "VENV2",
   "language": "python",
   "name": "python3"
  },
  "language_info": {
   "codemirror_mode": {
    "name": "ipython",
    "version": 3
   },
   "file_extension": ".py",
   "mimetype": "text/x-python",
   "name": "python",
   "nbconvert_exporter": "python",
   "pygments_lexer": "ipython3",
   "version": "3.11.7"
  }
 },
 "nbformat": 4,
 "nbformat_minor": 5
}
